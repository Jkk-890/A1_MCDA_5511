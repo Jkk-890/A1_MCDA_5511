{
  "cells": [
    {
      "cell_type": "markdown",
      "metadata": {
        "id": "L6a-YUzXtKMi"
      },
      "source": [
        "#Package Setup"
      ]
    },
    {
      "cell_type": "markdown",
      "metadata": {
        "id": "vU3vDD5NnHbe"
      },
      "source": [
        "## Installations"
      ]
    },
    {
      "cell_type": "code",
      "execution_count": 10,
      "metadata": {
        "id": "ld6DUOwPnOx4"
      },
      "outputs": [],
      "source": [
        "# pip install umap-learn\n",
        "# pip install sentence-transformers\n",
        "# pip install pyvis"
      ]
    },
    {
      "cell_type": "markdown",
      "metadata": {
        "id": "GWU8thTgtDwK"
      },
      "source": [
        "## Imports"
      ]
    },
    {
      "cell_type": "code",
      "execution_count": 11,
      "metadata": {
        "id": "iqovyEuCkmEk"
      },
      "outputs": [],
      "source": [
        "import csv\n",
        "import umap\n",
        "from scipy import spatial\n",
        "from sklearn.preprocessing import StandardScaler\n",
        "from sentence_transformers import SentenceTransformer\n",
        "import matplotlib.pyplot as plt\n",
        "from collections import defaultdict\n",
        "import pyvis\n",
        "from pyvis.network import Network\n",
        "import numpy as np\n",
        "import seaborn as sns\n",
        "import branca.colormap as cm\n",
        "import branca\n",
        "import pandas as pd\n",
        "import re\n",
        "from textwrap import wrap\n",
        "import json\n",
        "import os\n",
        "\n",
        "project_path = os.getcwd()"
      ]
    },
    {
      "cell_type": "markdown",
      "metadata": {
        "id": "B6j9HEUktPbU"
      },
      "source": [
        "# Visualization Creation Process"
      ]
    },
    {
      "cell_type": "markdown",
      "metadata": {
        "id": "5Fu_9ijYFeR8"
      },
      "source": [
        "## Create Embeddings from Raw Data"
      ]
    },
    {
      "cell_type": "code",
      "execution_count": 12,
      "metadata": {
        "id": "A20046f5kvzd"
      },
      "outputs": [
        {
          "name": "stdout",
          "output_type": "stream",
          "text": [
            "Data saved to person_embeddings_modified.csv\n"
          ]
        }
      ],
      "source": [
        "# Read attendees and their responses from a CSV file, replace attendees.csv with own link or file name\n",
        "attendees_map = {}\n",
        "with open(os.path.join(project_path, 'MCDA5511-classmates - 2025 - modified.csv'), newline='') as csvfile:\n",
        "    attendees = csv.reader(csvfile, delimiter=',', quotechar='\"')\n",
        "    next(attendees)  # Skip the header row\n",
        "    for row in attendees:\n",
        "        name, paragraph = row\n",
        "        attendees_map[paragraph] = name\n",
        "\n",
        "# Generate sentence embeddings\n",
        "model = SentenceTransformer('sentence-transformers/all-MiniLM-L6-v2')\n",
        "paragraphs = list(attendees_map.keys())\n",
        "embeddings = model.encode(paragraphs)\n",
        "\n",
        "# Create a dictionary to store embeddings for each person\n",
        "person_embeddings = {attendees_map[paragraph]: embedding for paragraph, embedding in zip(paragraphs, embeddings)}\n",
        "\n",
        "csv_file = \"person_embeddings_modified.csv\"\n",
        "\n",
        "# Open the CSV file for writing\n",
        "with open(csv_file, 'w') as file:\n",
        "    writer = csv.writer(file)\n",
        "    writer.writerow([\"Name\", \"Embedding\"])\n",
        "    for name, embedding in person_embeddings.items():\n",
        "        writer.writerow([name] + list(embedding))\n",
        "        \n",
        "print(f\"Data saved to {csv_file}\")"
      ]
    },
    {
      "cell_type": "markdown",
      "metadata": {
        "id": "yhQYxCZ-Fkmp"
      },
      "source": [
        "## Reducing dimensionality of embedding data, scaling to coordinate domain/range\n"
      ]
    },
    {
      "cell_type": "code",
      "execution_count": 13,
      "metadata": {
        "id": "PLufwJPWkoWp"
      },
      "outputs": [
        {
          "name": "stderr",
          "output_type": "stream",
          "text": [
            "c:\\Users\\ethan\\Documents\\Winter 2025\\CSCI 4551\\Assignments\\A1_MCDA_5511\\.venv\\Lib\\site-packages\\sklearn\\utils\\deprecation.py:151: FutureWarning: 'force_all_finite' was renamed to 'ensure_all_finite' in 1.6 and will be removed in 1.8.\n",
            "  warnings.warn(\n",
            "c:\\Users\\ethan\\Documents\\Winter 2025\\CSCI 4551\\Assignments\\A1_MCDA_5511\\.venv\\Lib\\site-packages\\umap\\umap_.py:1952: UserWarning: n_jobs value 1 overridden to 1 by setting random_state. Use no seed for parallelism.\n",
            "  warn(\n"
          ]
        }
      ],
      "source": [
        "# Reducing dimensionality of embedding data, scaling to coordinate domain/range\n",
        "reducer = umap.UMAP(random_state=42)\n",
        "scaler = StandardScaler()\n",
        "scaled_data = scaler.fit_transform(list(person_embeddings.values()))\n",
        "reduced_data = reducer.fit_transform(scaled_data)\n"
      ]
    },
    {
      "cell_type": "markdown",
      "metadata": {
        "id": "oD5e7ge2Fn3e"
      },
      "source": [
        "## Create Visualization Image"
      ]
    },
    {
      "cell_type": "code",
      "execution_count": 14,
      "metadata": {
        "id": "aFhtKXwvktLO"
      },
      "outputs": [
        {
          "data": {
            "image/png": "[encoded data removed]",
            "text/plain": [
              "<Figure size 640x480 with 1 Axes>"
            ]
          },
          "metadata": {},
          "output_type": "display_data"
        }
      ],
      "source": [
        "# Creating lists of coordinates with accompanying labels\n",
        "x = [row[0] for row in reduced_data]\n",
        "y = [row[1] for row in reduced_data]\n",
        "label = list(person_embeddings.keys())\n",
        "\n",
        "# Plotting and annotating data points\n",
        "plt.scatter(x,y)\n",
        "for i, name in enumerate(label):\n",
        "    plt.annotate(name, (x[i], y[i]), fontsize=\"3\")\n",
        "\n",
        "# Clean-up and Export\n",
        "plt.axis('off')\n",
        "plt.savefig(os.path.join(project_path,'a_visualization.png'), dpi=800)"
      ]
    },
    {
      "cell_type": "markdown",
      "metadata": {
        "id": "RDfz17paFvR3"
      },
      "source": [
        "## Find the  top N matches to a node"
      ]
    },
    {
      "cell_type": "code",
      "execution_count": 15,
      "metadata": {
        "id": "DkzlqdbFrVCt"
      },
      "outputs": [],
      "source": [
        "# Providing top matches\n",
        "top_matches = {}\n",
        "all_personal_pairs = defaultdict(list)\n",
        "for person in attendees_map.values():\n",
        "    for person1 in attendees_map.values():\n",
        "        all_personal_pairs[person].append([spatial.distance.cosine(person_embeddings[person1], person_embeddings[person]), person1])\n",
        "\n",
        "n = 5\n",
        "# Collect the top n most similarity nodes\n",
        "data_day_list = []\n",
        "for person in attendees_map.values():\n",
        "    top_matches[person] = sorted(all_personal_pairs[person], key=lambda x: x[0])[1:n+1] # drop yourself, take top 5\n",
        "    a = sorted(all_personal_pairs[person], key=lambda x: x[0])[1:n+1]\n",
        "    mini_df = pd.DataFrame(a, columns=['Weight', 'Target'])\n",
        "    mini_df['Source'] = person\n",
        "    data_day_list.append(mini_df)\n",
        "\n",
        "top_matches_serializable = {\n",
        "    person: [\n",
        "        [float(pair[0]), pair[1]] for pair in matches\n",
        "    ]\n",
        "    for person, matches in top_matches.items()\n",
        "}\n",
        "\n",
        "with open(os.path.join(project_path,'b_top5_matches.json'), 'w') as json_file:\n",
        "    json.dump(top_matches_serializable, json_file)\n",
        "\n",
        "# Output this information as a csv\n",
        "df = pd.concat(data_day_list)\n",
        "df.to_csv(os.path.join(project_path,'b_top5_matches.json'))\n"
      ]
    },
    {
      "cell_type": "markdown",
      "metadata": {
        "id": "-GMH_-ioGB-T"
      },
      "source": [
        "## Add Colour/Paragraph Information to Dataframe"
      ]
    },
    {
      "cell_type": "code",
      "execution_count": 16,
      "metadata": {
        "id": "f423QJS90vPj"
      },
      "outputs": [
        {
          "name": "stdout",
          "output_type": "stream",
          "text": [
            "      Weight Colour_Source          Source Colour_Target  \\\n",
            "0   0.275552       #a1c9f4  Greg Kirczenow       #8de5a1   \n",
            "1   0.299058       #a1c9f4  Greg Kirczenow       #ffb482   \n",
            "2   0.302179       #a1c9f4  Greg Kirczenow       #debb9b   \n",
            "3   0.363524       #a1c9f4  Greg Kirczenow       #d0bbff   \n",
            "4   0.407976       #a1c9f4  Greg Kirczenow       #debb9b   \n",
            "..       ...           ...             ...           ...   \n",
            "90  0.385660       #fffea3   Sriram Ramesh       #debb9b   \n",
            "91  0.407616       #fffea3   Sriram Ramesh       #8de5a1   \n",
            "92  0.417010       #fffea3   Sriram Ramesh       #ff9f9b   \n",
            "93  0.428615       #fffea3   Sriram Ramesh       #b9f2f0   \n",
            "94  0.433370       #fffea3   Sriram Ramesh       #ffb482   \n",
            "\n",
            "                         Target  \n",
            "0                 Pawan Lingras  \n",
            "1             Nikita Neveditsin  \n",
            "2                   Ethan Cooke  \n",
            "3                   Louise Fear  \n",
            "4              Sukanta Dey Amit  \n",
            "..                          ...  \n",
            "90                  Ethan Cooke  \n",
            "91       Mohammed Abdul Thoufiq  \n",
            "92                 Somto Muotoe  \n",
            "93  Sai Vishnu Teja Reddy Pulim  \n",
            "94          Karthikeya Kanumuri  \n",
            "\n",
            "[95 rows x 5 columns]\n",
            "      Weight Colour_Source Colour_Target                       Target  \\\n",
            "0   0.275552       #a1c9f4       #8de5a1                Pawan Lingras   \n",
            "1   0.299058       #a1c9f4       #ffb482            Nikita Neveditsin   \n",
            "2   0.302179       #a1c9f4       #debb9b                  Ethan Cooke   \n",
            "3   0.363524       #a1c9f4       #d0bbff                  Louise Fear   \n",
            "4   0.407976       #a1c9f4       #debb9b             Sukanta Dey Amit   \n",
            "..       ...           ...           ...                          ...   \n",
            "90  0.385660       #fffea3       #debb9b                  Ethan Cooke   \n",
            "91  0.407616       #fffea3       #8de5a1       Mohammed Abdul Thoufiq   \n",
            "92  0.417010       #fffea3       #ff9f9b                 Somto Muotoe   \n",
            "93  0.428615       #fffea3       #b9f2f0  Sai Vishnu Teja Reddy Pulim   \n",
            "94  0.433370       #fffea3       #ffb482          Karthikeya Kanumuri   \n",
            "\n",
            "                                           Paragraphs          Source  \n",
            "0               I enjoy Swimming, biking, and running  Greg Kirczenow  \n",
            "1               I enjoy Swimming, biking, and running  Greg Kirczenow  \n",
            "2               I enjoy Swimming, biking, and running  Greg Kirczenow  \n",
            "3               I enjoy Swimming, biking, and running  Greg Kirczenow  \n",
            "4               I enjoy Swimming, biking, and running  Greg Kirczenow  \n",
            "..                                                ...             ...  \n",
            "90  I like Competitive coding, playing soccer, pin...   Sriram Ramesh  \n",
            "91  I like Competitive coding, playing soccer, pin...   Sriram Ramesh  \n",
            "92  I like Competitive coding, playing soccer, pin...   Sriram Ramesh  \n",
            "93  I like Competitive coding, playing soccer, pin...   Sriram Ramesh  \n",
            "94  I like Competitive coding, playing soccer, pin...   Sriram Ramesh  \n",
            "\n",
            "[95 rows x 6 columns]\n"
          ]
        }
      ],
      "source": [
        "# Get the colour pallette\n",
        "colour = sns.color_palette(\"pastel\",len(x)).as_hex()\n",
        "\n",
        "# Add colour pallette to the df\n",
        "df1 = pd.DataFrame([label,colour])\n",
        "df1 = df1.T\n",
        "df1.rename(columns={0: 'Source', 1: 'Colour'},inplace=True)\n",
        "df = df.set_index('Source').join(df1.set_index('Source'))\n",
        "df['Source'] = df.index\n",
        "df = df.reset_index(drop=True)\n",
        "\n",
        "# Add colour pallette for both the df Target and Source:\n",
        "df1.rename(columns={'Source': 'Target'},inplace=True)\n",
        "df = df.set_index('Target').join(df1.set_index('Target'),lsuffix='_Source', rsuffix='_Target')\n",
        "df['Target'] = df.index\n",
        "df = df.reset_index(drop=True)\n",
        "print(df)\n",
        "\n",
        "# Add paragraphs to the df\n",
        "df2 = pd.DataFrame([label,paragraphs])\n",
        "df2 = df2.T\n",
        "df2.rename(columns={0: 'Source', 1: 'Paragraphs'},inplace=True)\n",
        "df = df.set_index('Source').join(df2.set_index('Source'))\n",
        "df['Source'] = df.index\n",
        "df = df.reset_index(drop=True)\n",
        "print(df)\n",
        "\n",
        "# Create a cleaned Dataframe of just the Source and and Paragraph information\n",
        "df_new = df[[\"Source\",\"Paragraphs\"]]\n",
        "df_new = df_new.drop_duplicates()\n",
        "df_new.set_index('Source', inplace=True)"
      ]
    },
    {
      "cell_type": "markdown",
      "metadata": {
        "id": "_hIev_UiGLei"
      },
      "source": [
        "## Build Interative Network Visualization (Simple)"
      ]
    },
    {
      "cell_type": "code",
      "execution_count": 17,
      "metadata": {
        "id": "4uNRCq8srzXg"
      },
      "outputs": [
        {
          "name": "stdout",
          "output_type": "stream",
          "text": [
            "c:\\Users\\ethan\\Documents\\Winter 2025\\CSCI 4551\\Assignments\\A1_MCDA_5511\\c_simple_viz.html\n"
          ]
        }
      ],
      "source": [
        "# Intitalize bucket size and colour palettes\n",
        "buckets = [100] * len(x)\n",
        "colour = sns.color_palette(\"pastel\",len(x)).as_hex()\n",
        "\n",
        "# Initialize network\n",
        "g = Network(height=\"750px\", width=\"100%\", bgcolor=\"#222222\", font_color=\"white\")\n",
        "\n",
        "# Add unconnected nodes to the network\n",
        "g.add_nodes(list(range(1,len(x)+1)), value=buckets,\n",
        "                         title=paragraphs,\n",
        "                         x=np.array(x).astype(np.float64),\n",
        "                         y=np.array(y).astype(np.float64),\n",
        "                         label=label,\n",
        "                         color=colour)\n",
        "\n",
        "# Output the visualization\n",
        "g.toggle_physics(True)\n",
        "g.show(os.path.join(project_path,'c_simple_viz.html'), notebook=False)"
      ]
    },
    {
      "cell_type": "markdown",
      "metadata": {
        "id": "k25-lsF-GQMP"
      },
      "source": [
        "## Build Interative Network Visualization (Complex)\n"
      ]
    },
    {
      "cell_type": "code",
      "execution_count": 18,
      "metadata": {
        "id": "gN4tOTrjyjGT"
      },
      "outputs": [
        {
          "name": "stdout",
          "output_type": "stream",
          "text": [
            "c:\\Users\\ethan\\Documents\\Winter 2025\\CSCI 4551\\Assignments\\A1_MCDA_5511\\c_complex_viz.html\n"
          ]
        }
      ],
      "source": [
        "# Initialize network\n",
        "got_net = Network(height=\"750px\", width=\"100%\", bgcolor=\"#222222\", font_color=\"white\",select_menu=True,cdn_resources='remote')\n",
        "\n",
        "# Create a dictionary of Important information\n",
        "sources = df['Source']\n",
        "targets = df['Target']\n",
        "weights = df['Weight']\n",
        "color_targets = df['Colour_Target']\n",
        "color_sources = df['Colour_Source']\n",
        "\n",
        "edge_data = zip(sources, targets, weights,color_targets,color_sources)\n",
        "\n",
        "# Add nodes and edges to the network\n",
        "for e in edge_data:\n",
        "                src = e[0]\n",
        "                dst = e[1]\n",
        "                w = e[2]\n",
        "                c_t= e[3]\n",
        "                c_s= e[4]\n",
        "                got_net.add_node(src, src, title=src,color=c_s)\n",
        "                got_net.add_node(dst, dst, title=dst)\n",
        "                got_net.add_edge(src, dst, value=w)#,color = \"#c79910\") # if you  want a solide colour for edges\n",
        "\n",
        "# Add paragraphs to the popup\n",
        "for i,node in enumerate(got_net.nodes):\n",
        "               content =df_new.loc[node.get(\"title\"),\"Paragraphs\"]\n",
        "               node[\"title\"] += \": \"+ \"\\n \\n\" +'\\n'.join(wrap(content, width=50))\n",
        "\n",
        "## Output the visualization\n",
        "got_net.show(os.path.join(project_path,'c_complex_viz.html'), notebook=False)"
      ]
    }
  ],
  "metadata": {
    "colab": {
      "collapsed_sections": [
        "vU3vDD5NnHbe",
        "B6j9HEUktPbU"
      ],
      "provenance": []
    },
    "kernelspec": {
      "display_name": ".venv",
      "language": "python",
      "name": "python3"
    },
    "language_info": {
      "codemirror_mode": {
        "name": "ipython",
        "version": 3
      },
      "file_extension": ".py",
      "mimetype": "text/x-python",
      "name": "python",
      "nbconvert_exporter": "python",
      "pygments_lexer": "ipython3",
      "version": "3.12.2"
    }
  },
  "nbformat": 4,
  "nbformat_minor": 0
}
